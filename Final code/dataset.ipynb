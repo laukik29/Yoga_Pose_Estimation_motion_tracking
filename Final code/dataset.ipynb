{
 "cells": [
  {
   "cell_type": "code",
   "execution_count": null,
   "metadata": {},
   "outputs": [],
   "source": [
    "# Example dataset preparation\n",
    "image_folder = '/path/to/your/images'\n",
    "label_file = '/path/to/your/labels.txt'\n",
    "\n",
    "# Read image file paths and corresponding labels\n",
    "with open(label_file, 'r') as f:\n",
    "    lines = f.readlines()\n",
    "\n",
    "image_list = [os.path.join(image_folder, line.strip()) for line in lines]\n",
    "labels = [line.strip().split(',')[1] for line in lines]  # Assuming each line in labels.txt is in the format \"image_path,label\"\n",
    "\n",
    "# Iterate through the dataset and call populate_row for each image-label pair\n",
    "for i in range(len(image_list)):\n",
    "    img = cv2.imread(image_list[i])\n",
    "    label = labels[i]\n",
    "    populate_row(img, label)\n"
   ]
  }
 ],
 "metadata": {
  "language_info": {
   "name": "python"
  }
 },
 "nbformat": 4,
 "nbformat_minor": 2
}
